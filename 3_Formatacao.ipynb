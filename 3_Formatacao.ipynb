{
  "nbformat": 4,
  "nbformat_minor": 0,
  "metadata": {
    "colab": {
      "provenance": [],
      "authorship_tag": "ABX9TyN8QmT+SkBVcn7ejPdKopMF",
      "include_colab_link": true
    },
    "kernelspec": {
      "name": "python3",
      "display_name": "Python 3"
    },
    "language_info": {
      "name": "python"
    }
  },
  "cells": [
    {
      "cell_type": "markdown",
      "metadata": {
        "id": "view-in-github",
        "colab_type": "text"
      },
      "source": [
        "<a href=\"https://colab.research.google.com/github/alanmanoel22/pythoncurso/blob/Curso_Python/3_Formatacao.ipynb\" target=\"_parent\"><img src=\"https://colab.research.google.com/assets/colab-badge.svg\" alt=\"Open In Colab\"/></a>"
      ]
    },
    {
      "cell_type": "markdown",
      "source": [
        "# Formatação"
      ],
      "metadata": {
        "id": "YiMD2uhTMcP_"
      }
    },
    {
      "cell_type": "code",
      "source": [
        "# %s texto\n",
        "# %d inteiro\n",
        "# %f float"
      ],
      "metadata": {
        "id": "WN--X3ivMiy_"
      },
      "execution_count": null,
      "outputs": []
    },
    {
      "cell_type": "code",
      "source": [
        "nome = 'Carolina'\n",
        "texto_formatado = 'O nome dela é %s' %(nome)\n",
        "print (texto_formatado)"
      ],
      "metadata": {
        "colab": {
          "base_uri": "https://localhost:8080/"
        },
        "id": "Rgx-Lwt2M1Xm",
        "outputId": "85608c2a-c846-40ae-f3f3-1acc9b54c487"
      },
      "execution_count": 2,
      "outputs": [
        {
          "output_type": "stream",
          "name": "stdout",
          "text": [
            "O nome dela é Carolina\n"
          ]
        }
      ]
    },
    {
      "cell_type": "code",
      "execution_count": 7,
      "metadata": {
        "colab": {
          "base_uri": "https://localhost:8080/"
        },
        "id": "lPAPxPmlL9j9",
        "outputId": "6fdbf678-4c52-4881-9ce6-74e67b5daa67"
      },
      "outputs": [
        {
          "output_type": "stream",
          "name": "stdout",
          "text": [
            "Meu nome é Rodrigo. tenho 23 anos e tenho altura 1.80 m de altura\n"
          ]
        }
      ],
      "source": [
        "nome = 'Rodrigo'\n",
        "idade = 23\n",
        "altura = 1.80\n",
        "texto = 'Meu nome é %s. tenho %d anos e tenho altura %.2f m de altura' %(nome, idade, altura)\n",
        "print (texto)"
      ]
    },
    {
      "cell_type": "code",
      "source": [
        "numero_gigante = 1.231243234\n",
        "print(\"numero gigante formatado: %.2f\" %(numero_gigante))"
      ],
      "metadata": {
        "colab": {
          "base_uri": "https://localhost:8080/"
        },
        "id": "pVgBH9ZEN0lZ",
        "outputId": "c9fa5a83-f27b-4f76-9bf2-2476dc2c1e53"
      },
      "execution_count": 6,
      "outputs": [
        {
          "output_type": "stream",
          "name": "stdout",
          "text": [
            "numero gigante formatado: 1.23\n"
          ]
        }
      ]
    },
    {
      "cell_type": "code",
      "source": [
        "valor = True\n",
        "print( ' O valor é %s' %(valor))\n",
        "print ( ' o valor é %d ' %(valor))"
      ],
      "metadata": {
        "colab": {
          "base_uri": "https://localhost:8080/"
        },
        "id": "WlKAwTo0OcJK",
        "outputId": "0bfa5f8d-9d44-4576-f0b2-cb8e33e64a34"
      },
      "execution_count": 10,
      "outputs": [
        {
          "output_type": "stream",
          "name": "stdout",
          "text": [
            " O valor é True\n",
            " o valor é 1 \n"
          ]
        }
      ]
    },
    {
      "cell_type": "code",
      "source": [
        "decimal = 23.4566\n",
        "print(' A parte itneira é %d' %(decimal))"
      ],
      "metadata": {
        "colab": {
          "base_uri": "https://localhost:8080/"
        },
        "id": "0Q7z4PX8Qd1m",
        "outputId": "b5d32f4c-e1c0-4ff9-a3c2-ffc841522ea9"
      },
      "execution_count": 12,
      "outputs": [
        {
          "output_type": "stream",
          "name": "stdout",
          "text": [
            " A parte itneira é 23\n"
          ]
        }
      ]
    }
  ]
}