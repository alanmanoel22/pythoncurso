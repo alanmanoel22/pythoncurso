{
  "nbformat": 4,
  "nbformat_minor": 0,
  "metadata": {
    "colab": {
      "provenance": [],
      "authorship_tag": "ABX9TyO/Wm5RaL5J/XcDuetoMtG0",
      "include_colab_link": true
    },
    "kernelspec": {
      "name": "python3",
      "display_name": "Python 3"
    },
    "language_info": {
      "name": "python"
    }
  },
  "cells": [
    {
      "cell_type": "markdown",
      "metadata": {
        "id": "view-in-github",
        "colab_type": "text"
      },
      "source": [
        "<a href=\"https://colab.research.google.com/github/alanmanoel22/pythoncurso/blob/Curso_Python/Atividade_tipos_variaveis.ipynb\" target=\"_parent\"><img src=\"https://colab.research.google.com/assets/colab-badge.svg\" alt=\"Open In Colab\"/></a>"
      ]
    },
    {
      "cell_type": "code",
      "execution_count": 3,
      "metadata": {
        "colab": {
          "base_uri": "https://localhost:8080/"
        },
        "id": "pT6-tFrCLPgu",
        "outputId": "c55eec05-8e36-4e1e-eeff-fb1fcf3b019c"
      },
      "outputs": [
        {
          "output_type": "stream",
          "name": "stdout",
          "text": [
            "Nome: Alan Manoel: CPF: 123456789: Estado Civil: Namorando\n"
          ]
        }
      ],
      "source": [
        "Nome = 'Alan Manoel'\n",
        "CPF = 123456789\n",
        "EstadoCivil = 'Namorando'\n",
        "print('Nome',Nome,'CPF',CPF,'Estado Civil', EstadoCivil, sep = ': ')"
      ]
    },
    {
      "cell_type": "code",
      "source": [
        "\n"
      ],
      "metadata": {
        "id": "E7kPOIzULXEv"
      },
      "execution_count": null,
      "outputs": []
    }
  ]
}