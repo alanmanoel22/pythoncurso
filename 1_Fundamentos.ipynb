{
  "nbformat": 4,
  "nbformat_minor": 0,
  "metadata": {
    "colab": {
      "provenance": [],
      "authorship_tag": "ABX9TyM12Ob5xNizGrdFs9JOhNFU",
      "include_colab_link": true
    },
    "kernelspec": {
      "name": "python3",
      "display_name": "Python 3"
    },
    "language_info": {
      "name": "python"
    }
  },
  "cells": [
    {
      "cell_type": "markdown",
      "metadata": {
        "id": "view-in-github",
        "colab_type": "text"
      },
      "source": [
        "<a href=\"https://colab.research.google.com/github/alanmanoel22/pythoncurso/blob/Curso_Python/1_Fundamentos.ipynb\" target=\"_parent\"><img src=\"https://colab.research.google.com/assets/colab-badge.svg\" alt=\"Open In Colab\"/></a>"
      ]
    },
    {
      "cell_type": "code",
      "execution_count": 2,
      "metadata": {
        "colab": {
          "base_uri": "https://localhost:8080/"
        },
        "id": "2rX0eYq0CdTT",
        "outputId": "40cd69bd-14ff-4984-8279-e1fff09137a1"
      },
      "outputs": [
        {
          "output_type": "stream",
          "name": "stdout",
          "text": [
            "ola mundo \n"
          ]
        }
      ],
      "source": [
        "#isto é um comentario\n",
        "print( \"ola mundo \") #isto é um comentario\n"
      ]
    },
    {
      "cell_type": "code",
      "source": [
        "''' este é um comentario\n",
        "aqui o texto continua\n",
        "aqui ainda é um comentario '''\n"
      ],
      "metadata": {
        "colab": {
          "base_uri": "https://localhost:8080/",
          "height": 35
        },
        "id": "D2d7rnISCywh",
        "outputId": "cd768ed4-4b03-4bfc-cba6-b21b966652b1"
      },
      "execution_count": 3,
      "outputs": [
        {
          "output_type": "execute_result",
          "data": {
            "text/plain": [
              "' este é um comentario\\naqui o texto continua\\naqui ainda é um comentario '"
            ],
            "application/vnd.google.colaboratory.intrinsic+json": {
              "type": "string"
            }
          },
          "metadata": {},
          "execution_count": 3
        }
      ]
    },
    {
      "cell_type": "code",
      "source": [
        "print (\"Olá mundo\")\n",
        "print(10)\n",
        "print(20.5)"
      ],
      "metadata": {
        "colab": {
          "base_uri": "https://localhost:8080/"
        },
        "id": "ECUSmSDqDFvN",
        "outputId": "da27e224-ef7d-4a7d-9cf9-9b4b6a7e621f"
      },
      "execution_count": 4,
      "outputs": [
        {
          "output_type": "stream",
          "name": "stdout",
          "text": [
            "Olá mundo\n",
            "10\n",
            "20.5\n"
          ]
        }
      ]
    },
    {
      "cell_type": "markdown",
      "source": [
        "print (\"maça\",\"pera\",\"Uva\", sep = ' - ')"
      ],
      "metadata": {
        "id": "ZfrEYQAiDs3e"
      }
    },
    {
      "cell_type": "code",
      "source": [
        "print (\"Maça\",\"pera\", end = ' Fim', sep= ' ')"
      ],
      "metadata": {
        "colab": {
          "base_uri": "https://localhost:8080/"
        },
        "id": "Ccn2x4E5D_Tq",
        "outputId": "93f9211d-1525-4fe1-8178-a69ca8025785"
      },
      "execution_count": 10,
      "outputs": [
        {
          "output_type": "stream",
          "name": "stdout",
          "text": [
            "Maça pera Fim"
          ]
        }
      ]
    },
    {
      "cell_type": "code",
      "source": [
        "print (\" este é um codigo long, \\n eu quero quebrar uma linha \")"
      ],
      "metadata": {
        "id": "kAEiknTnEb6I"
      },
      "execution_count": null,
      "outputs": []
    },
    {
      "cell_type": "code",
      "source": [
        "print (\"A pontuacao total de %s foi %s pontos\" %(\"Fernando\",\"10\"))"
      ],
      "metadata": {
        "colab": {
          "base_uri": "https://localhost:8080/"
        },
        "id": "iVw5PrZlEtr8",
        "outputId": "87bf4210-5d06-481c-d103-e5706c98d9d7"
      },
      "execution_count": 11,
      "outputs": [
        {
          "output_type": "stream",
          "name": "stdout",
          "text": [
            "A pontuacao total de Fernando foi 10 pontos\n"
          ]
        }
      ]
    },
    {
      "cell_type": "markdown",
      "source": [
        "# Variaveis"
      ],
      "metadata": {
        "id": "BE1DDJc6GeZt"
      }
    },
    {
      "cell_type": "code",
      "source": [
        "_numero = 1\n",
        "Numero = 2\n",
        "numero = 3\n",
        "numero123 = 4\n",
        "print (_numero, Numero, numero, numero123)"
      ],
      "metadata": {
        "colab": {
          "base_uri": "https://localhost:8080/"
        },
        "id": "v4Izv05wGmN0",
        "outputId": "ce235522-91b4-40b7-d11d-56288c485273"
      },
      "execution_count": 12,
      "outputs": [
        {
          "output_type": "stream",
          "name": "stdout",
          "text": [
            "1 2 3 4\n"
          ]
        }
      ]
    },
    {
      "cell_type": "code",
      "source": [
        "numero = 10\n",
        "print (numero)\n",
        "Numero = 20\n",
        "print(numero)"
      ],
      "metadata": {
        "colab": {
          "base_uri": "https://localhost:8080/"
        },
        "id": "7AT7LSVQHk1L",
        "outputId": "6f0d0312-a318-429c-9ad1-7b88bfbf5a00"
      },
      "execution_count": 19,
      "outputs": [
        {
          "output_type": "stream",
          "name": "stdout",
          "text": [
            "10\n",
            "30\n"
          ]
        }
      ]
    },
    {
      "cell_type": "code",
      "source": [
        "texto = 'Olá mundo'\n",
        "print (texto)"
      ],
      "metadata": {
        "colab": {
          "base_uri": "https://localhost:8080/"
        },
        "id": "L7YQkMxoIFu4",
        "outputId": "fece4b8c-8f5a-4f6c-adf8-574654fc6e6e"
      },
      "execution_count": 20,
      "outputs": [
        {
          "output_type": "stream",
          "name": "stdout",
          "text": [
            "Olá mundo\n"
          ]
        }
      ]
    },
    {
      "cell_type": "markdown",
      "source": [
        "# Tipos Primitivos"
      ],
      "metadata": {
        "id": "Kq5FPg6_IUHw"
      }
    },
    {
      "cell_type": "code",
      "source": [
        "variavel = None\n",
        "print (variavel)"
      ],
      "metadata": {
        "colab": {
          "base_uri": "https://localhost:8080/"
        },
        "id": "_FfcXGt0IWML",
        "outputId": "1147f1cb-d4ca-4acb-d043-d02ee03907a7"
      },
      "execution_count": 21,
      "outputs": [
        {
          "output_type": "stream",
          "name": "stdout",
          "text": [
            "None\n"
          ]
        }
      ]
    },
    {
      "cell_type": "code",
      "source": [
        "inteiro = 10\n",
        "print (inteiro)"
      ],
      "metadata": {
        "colab": {
          "base_uri": "https://localhost:8080/"
        },
        "id": "5J2BUXEoIoBq",
        "outputId": "fb0f7695-5d48-4af0-9654-fff2de852bd0"
      },
      "execution_count": 23,
      "outputs": [
        {
          "output_type": "stream",
          "name": "stdout",
          "text": [
            "10\n"
          ]
        }
      ]
    },
    {
      "cell_type": "code",
      "source": [
        "decimal = 1.53\n",
        "print (decimal)"
      ],
      "metadata": {
        "colab": {
          "base_uri": "https://localhost:8080/"
        },
        "id": "HcjcQUQqIvXY",
        "outputId": "41de6224-1cee-4d92-e295-c838847671dd"
      },
      "execution_count": 24,
      "outputs": [
        {
          "output_type": "stream",
          "name": "stdout",
          "text": [
            "1.53\n"
          ]
        }
      ]
    },
    {
      "cell_type": "code",
      "source": [
        "texto= 'olá mundo'\n",
        "print(texto)"
      ],
      "metadata": {
        "colab": {
          "base_uri": "https://localhost:8080/"
        },
        "id": "KMisI3heI0s2",
        "outputId": "5208cbd9-5eb0-4912-88b2-2de2abd1b7cb"
      },
      "execution_count": 26,
      "outputs": [
        {
          "output_type": "stream",
          "name": "stdout",
          "text": [
            "olá mundo\n"
          ]
        }
      ]
    },
    {
      "cell_type": "code",
      "source": [
        "var = True\n",
        "print (var)\n",
        "var = False\n",
        "print (var)"
      ],
      "metadata": {
        "colab": {
          "base_uri": "https://localhost:8080/"
        },
        "id": "xqT_iHhnI568",
        "outputId": "cbdcf5e9-c0af-4649-dd3d-5aa2020bde93"
      },
      "execution_count": 27,
      "outputs": [
        {
          "output_type": "stream",
          "name": "stdout",
          "text": [
            "True\n",
            "False\n"
          ]
        }
      ]
    },
    {
      "cell_type": "code",
      "source": [
        "var1 = 10\n",
        "var2 = var1\n",
        "print (var2)"
      ],
      "metadata": {
        "colab": {
          "base_uri": "https://localhost:8080/"
        },
        "id": "xBwt-SlhJKyD",
        "outputId": "0c2c537f-b972-4949-bd55-65912e99fae9"
      },
      "execution_count": 28,
      "outputs": [
        {
          "output_type": "stream",
          "name": "stdout",
          "text": [
            "10\n"
          ]
        }
      ]
    },
    {
      "cell_type": "code",
      "source": [
        "var = None\n",
        "print (var)\n",
        "var = 1\n",
        "print (var)\n",
        "var = 'texto'\n",
        "print(var)"
      ],
      "metadata": {
        "colab": {
          "base_uri": "https://localhost:8080/"
        },
        "id": "sBLd0kDjI0JM",
        "outputId": "e50e27b7-770f-4f73-b0a4-08b991f535fc"
      },
      "execution_count": 29,
      "outputs": [
        {
          "output_type": "stream",
          "name": "stdout",
          "text": [
            "None\n",
            "1\n",
            "texto\n"
          ]
        }
      ]
    },
    {
      "cell_type": "code",
      "source": [
        "saldoBancario = 100\n",
        "SaldoBancario = 100\n",
        "saldo_bancario = 100"
      ],
      "metadata": {
        "id": "VVeYhOn0Jx9z"
      },
      "execution_count": null,
      "outputs": []
    }
  ]
}