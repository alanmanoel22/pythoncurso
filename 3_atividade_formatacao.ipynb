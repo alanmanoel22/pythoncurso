{
  "nbformat": 4,
  "nbformat_minor": 0,
  "metadata": {
    "colab": {
      "provenance": [],
      "authorship_tag": "ABX9TyOiuZJWOXG397GveKIXS+tl",
      "include_colab_link": true
    },
    "kernelspec": {
      "name": "python3",
      "display_name": "Python 3"
    },
    "language_info": {
      "name": "python"
    }
  },
  "cells": [
    {
      "cell_type": "markdown",
      "metadata": {
        "id": "view-in-github",
        "colab_type": "text"
      },
      "source": [
        "<a href=\"https://colab.research.google.com/github/alanmanoel22/pythoncurso/blob/Curso_Python/3_atividade_formatacao.ipynb\" target=\"_parent\"><img src=\"https://colab.research.google.com/assets/colab-badge.svg\" alt=\"Open In Colab\"/></a>"
      ]
    },
    {
      "cell_type": "code",
      "execution_count": null,
      "metadata": {
        "colab": {
          "base_uri": "https://localhost:8080/"
        },
        "id": "xxF4jynkS0Ru",
        "outputId": "50be8bd1-8039-4ac9-e239-8a7619e2ac69"
      },
      "outputs": [
        {
          "output_type": "stream",
          "name": "stdout",
          "text": [
            "Eu nasci em 30/12/1988\n"
          ]
        }
      ],
      "source": [
        "dia = 30\n",
        "mes = 12\n",
        "ano = 1988\n",
        "data = 'Eu nasci em %d/%d/%d' %(dia,mes,ano)\n",
        "print(data)"
      ]
    },
    {
      "cell_type": "code",
      "source": [
        "horas = 20\n",
        "minutos = 2\n",
        "print (\"agora são %d horas e %.d minutos\" %(horas, minutos))"
      ],
      "metadata": {
        "colab": {
          "base_uri": "https://localhost:8080/"
        },
        "id": "CeqFdBuDT9dH",
        "outputId": "e0c59095-5126-48b0-a98e-8ae7a48cdf09"
      },
      "execution_count": null,
      "outputs": [
        {
          "output_type": "stream",
          "name": "stdout",
          "text": [
            "agora são 20 horas e 2 minutos\n"
          ]
        }
      ]
    },
    {
      "cell_type": "markdown",
      "source": [
        "Operadores Aritimeticos"
      ],
      "metadata": {
        "id": "jGXnHk9TWAxb"
      }
    },
    {
      "cell_type": "code",
      "source": [
        "print (10 + 20)"
      ],
      "metadata": {
        "colab": {
          "base_uri": "https://localhost:8080/"
        },
        "id": "gb14yeWHWD5E",
        "outputId": "2dfd4fca-12ab-4625-e0f5-53afe76d9ef9"
      },
      "execution_count": 9,
      "outputs": [
        {
          "output_type": "stream",
          "name": "stdout",
          "text": [
            "30\n"
          ]
        }
      ]
    },
    {
      "cell_type": "markdown",
      "source": [
        "Operadores Logicos\n"
      ],
      "metadata": {
        "id": "iS-LRlW6XPjj"
      }
    },
    {
      "cell_type": "code",
      "source": [
        "resultado1 = True and False\n",
        "print(resultado1)"
      ],
      "metadata": {
        "colab": {
          "base_uri": "https://localhost:8080/"
        },
        "id": "-zTPkKQ4XRiU",
        "outputId": "30240f4c-7cb5-43bd-9d37-c4bee73fbf3e"
      },
      "execution_count": 10,
      "outputs": [
        {
          "output_type": "stream",
          "name": "stdout",
          "text": [
            "False\n"
          ]
        }
      ]
    },
    {
      "cell_type": "code",
      "source": [
        "var1 = True\n",
        "var2 = True\n",
        "var3 = False\n",
        "print (var1 and var2 and var3)"
      ],
      "metadata": {
        "colab": {
          "base_uri": "https://localhost:8080/"
        },
        "id": "2ll7YfayXiaz",
        "outputId": "f3744759-120f-4e8f-d159-5ea50a13e36b"
      },
      "execution_count": 12,
      "outputs": [
        {
          "output_type": "stream",
          "name": "stdout",
          "text": [
            "False\n"
          ]
        }
      ]
    },
    {
      "cell_type": "code",
      "source": [
        "clima_bom = True\n",
        "estou_disposto = False\n",
        "vou_ao_mercado = clima_bom or estou_disposto\n",
        "print ('Vou ao mercado?',vou_ao_mercado)"
      ],
      "metadata": {
        "colab": {
          "base_uri": "https://localhost:8080/"
        },
        "id": "eHGHaV3AXzh_",
        "outputId": "16c8ad55-a4d3-4a1f-9ddc-f598ed543f1c"
      },
      "execution_count": 14,
      "outputs": [
        {
          "output_type": "stream",
          "name": "stdout",
          "text": [
            "Vou ao mercado? True\n"
          ]
        }
      ]
    },
    {
      "cell_type": "markdown",
      "source": [
        "# Casting"
      ],
      "metadata": {
        "id": "Q4ZvbHaedOVZ"
      }
    },
    {
      "cell_type": "code",
      "source": [
        "texto = 'olá'\n",
        "numero = 2\n",
        "decimal = 1.5\n",
        "boolean = True\n",
        "print(type(texto))\n",
        "print(type(numero))\n",
        "print(type(decimal))\n",
        "print(type(boolean))\n"
      ],
      "metadata": {
        "colab": {
          "base_uri": "https://localhost:8080/"
        },
        "id": "iuo-3ADNdP7B",
        "outputId": "f04a7e3d-12c7-405a-ad39-23e801955e5a"
      },
      "execution_count": 15,
      "outputs": [
        {
          "output_type": "stream",
          "name": "stdout",
          "text": [
            "<class 'str'>\n",
            "<class 'int'>\n",
            "<class 'float'>\n",
            "<class 'bool'>\n"
          ]
        }
      ]
    },
    {
      "cell_type": "code",
      "source": [
        "texto1 ='2'\n",
        "texto2 = '1.5'\n",
        "numero1 = int(texto1)\n",
        "numero2 = float(texto2)\n",
        "print (numero1 + numero2)"
      ],
      "metadata": {
        "colab": {
          "base_uri": "https://localhost:8080/"
        },
        "id": "HPiogASIdxLA",
        "outputId": "2a4efa61-34f6-4f44-ee65-130b2ef0f702"
      },
      "execution_count": 18,
      "outputs": [
        {
          "output_type": "stream",
          "name": "stdout",
          "text": [
            "3.5\n"
          ]
        }
      ]
    },
    {
      "cell_type": "code",
      "source": [
        "num = 21.23121\n",
        "inteira = int(num)\n",
        "print (inteira)"
      ],
      "metadata": {
        "colab": {
          "base_uri": "https://localhost:8080/"
        },
        "id": "I-7sg9xpedU5",
        "outputId": "4b3cd602-4a20-419a-ddba-8dbaad7ab074"
      },
      "execution_count": 20,
      "outputs": [
        {
          "output_type": "stream",
          "name": "stdout",
          "text": [
            "21\n"
          ]
        }
      ]
    },
    {
      "cell_type": "code",
      "source": [
        "texto = 'o numero é'\n",
        "numero = 10.3\n",
        "numero_em_string = str(numero)\n",
        "print(texto,numero_em_string )\n",
        "print (type(numero_em_string))"
      ],
      "metadata": {
        "colab": {
          "base_uri": "https://localhost:8080/"
        },
        "id": "IkH_x0vMe1HY",
        "outputId": "0df56084-96ec-498f-fe73-dca4abff64a5"
      },
      "execution_count": 21,
      "outputs": [
        {
          "output_type": "stream",
          "name": "stdout",
          "text": [
            "o numero é 10.3\n",
            "<class 'str'>\n"
          ]
        }
      ]
    },
    {
      "cell_type": "code",
      "source": [
        "numero = 1231432432\n",
        "texto = str(numero)\n",
        "numero_de_digitos = len(texto)\n",
        "print (numero_de_digitos)"
      ],
      "metadata": {
        "colab": {
          "base_uri": "https://localhost:8080/"
        },
        "id": "VBqBXu7UfMop",
        "outputId": "79254778-7c30-4ff2-9471-684bfc82fa79"
      },
      "execution_count": 22,
      "outputs": [
        {
          "output_type": "stream",
          "name": "stdout",
          "text": [
            "10\n"
          ]
        }
      ]
    },
    {
      "cell_type": "code",
      "source": [
        "vazio = None\n",
        "numero_um = 15\n",
        "numero_zero = 0\n",
        "texto ='Texto'\n",
        "texto_vazio = \"\"\n",
        "decimal_zero = 0.0\n",
        "decimal = 3.5\n",
        "\n",
        "print (\"Variavel tem valor: \", bool (vazio))\n",
        "print (\"Numero tem valor: \", bool (numero_um))\n",
        "print (\"Variavel tem valor: \", bool (numero_zero))\n",
        "\n",
        "print (\"texto tem valor: \", bool (texto))\n",
        "print (\"texto tem valor: \", bool (texto_vazio))\n",
        "\n",
        "print (\"float tem valor: \", bool (decimal_zero))\n",
        "print (\"float tem valor: \", bool (decimal))\n",
        "\n",
        "\n",
        "\n"
      ],
      "metadata": {
        "colab": {
          "base_uri": "https://localhost:8080/"
        },
        "id": "GdbbOKJsfoOf",
        "outputId": "8d3315fa-4888-434f-bdc9-fea6d65c9fde"
      },
      "execution_count": 27,
      "outputs": [
        {
          "output_type": "stream",
          "name": "stdout",
          "text": [
            "Variavel tem valor:  False\n",
            "Numero tem valor:  15\n",
            "Variavel tem valor:  False\n",
            "texto tem valor:  True\n",
            "texto tem valor:  False\n",
            "float tem valor:  False\n",
            "float tem valor:  True\n"
          ]
        }
      ]
    },
    {
      "cell_type": "code",
      "source": [
        "saldo  = '5000'\n",
        "saldo_total = int(saldo)\n",
        "saque = saldo_total - 1000\n",
        "saldo_total = str(saque)\n",
        "print(saldo_total)"
      ],
      "metadata": {
        "colab": {
          "base_uri": "https://localhost:8080/"
        },
        "id": "utGyXgbtg9tI",
        "outputId": "b68b29d7-ddbf-4750-b30c-af7330df9f93"
      },
      "execution_count": 31,
      "outputs": [
        {
          "output_type": "stream",
          "name": "stdout",
          "text": [
            "4000\n"
          ]
        }
      ]
    },
    {
      "cell_type": "code",
      "source": [
        "saldo_bancario = 0\n",
        "print ('Meu saldo é', bool(saldo_bancario) )"
      ],
      "metadata": {
        "colab": {
          "base_uri": "https://localhost:8080/"
        },
        "id": "6N_Sq_3jhVY9",
        "outputId": "b166fd67-404d-4039-b173-a547190724c0"
      },
      "execution_count": 30,
      "outputs": [
        {
          "output_type": "stream",
          "name": "stdout",
          "text": [
            "Meu saldo é False\n"
          ]
        }
      ]
    },
    {
      "cell_type": "markdown",
      "source": [
        "# Entradas de Usuários"
      ],
      "metadata": {
        "id": "eDY-SvdAjenF"
      }
    },
    {
      "cell_type": "code",
      "source": [
        "valor_escrito = input()\n",
        "print(type(valor_escrito))\n",
        "print(valor_escrito)"
      ],
      "metadata": {
        "colab": {
          "base_uri": "https://localhost:8080/"
        },
        "id": "wC0GpOubjgxP",
        "outputId": "50fca4d5-542b-4163-84d9-b96345fc7955"
      },
      "execution_count": 33,
      "outputs": [
        {
          "output_type": "stream",
          "name": "stdout",
          "text": [
            "20\n",
            "<class 'str'>\n",
            "20\n"
          ]
        }
      ]
    },
    {
      "cell_type": "code",
      "source": [
        "meu_nome = input()\n",
        "print(\"eu me chamo %s\" %(meu_nome))"
      ],
      "metadata": {
        "colab": {
          "base_uri": "https://localhost:8080/"
        },
        "id": "Fy2s8MCikCw7",
        "outputId": "cfc20fce-e4d6-47ea-e763-cc34e4cf1531"
      },
      "execution_count": 34,
      "outputs": [
        {
          "output_type": "stream",
          "name": "stdout",
          "text": [
            "alan\n",
            "eu me chamo alan\n"
          ]
        }
      ]
    },
    {
      "cell_type": "code",
      "source": [
        "dia = input('Insira o dia: ')\n",
        "mes = input('Insira o mes: ')\n",
        "ano = input(' Insira o ano: ')\n",
        "\n",
        "print('a data inserida foi: %s/%s/%s' %(dia,mes,ano) )"
      ],
      "metadata": {
        "colab": {
          "base_uri": "https://localhost:8080/"
        },
        "id": "63ZLcC9vkTcC",
        "outputId": "f25734c3-2f6b-4f89-d746-897cd0cca076"
      },
      "execution_count": 37,
      "outputs": [
        {
          "output_type": "stream",
          "name": "stdout",
          "text": [
            "Insira o dia: 30\n",
            "Insira o mes: 12\n",
            " Insira o ano: 1988\n",
            "a data inserida foi: 30/12/1988\n"
          ]
        }
      ]
    },
    {
      "cell_type": "code",
      "source": [
        "Entrada_usuário = input(\"Digite 1 para verdadeiro e 0 para falso\")\n",
        "valor_inteiro = int(Entrada_usuário)\n",
        "valor_logico = bool(valor_inteiro)\n",
        "print(\"Voce escolheu: %s \" %(valor_logico))\n",
        "print(\"ou ainda vc escolheu: %i \"%(valor_inteiro))"
      ],
      "metadata": {
        "colab": {
          "base_uri": "https://localhost:8080/"
        },
        "id": "xn13KZIhmmB1",
        "outputId": "fb86314f-d543-4383-b96c-2d960b7b69c7"
      },
      "execution_count": 41,
      "outputs": [
        {
          "output_type": "stream",
          "name": "stdout",
          "text": [
            "Digite 1 para verdadeiro e 0 para falso2\n",
            "Voce escolheu: True \n",
            "ou ainda vc escolheu: 2 \n"
          ]
        }
      ]
    }
  ]
}