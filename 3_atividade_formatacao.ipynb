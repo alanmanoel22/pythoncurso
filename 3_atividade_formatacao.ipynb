{
  "nbformat": 4,
  "nbformat_minor": 0,
  "metadata": {
    "colab": {
      "provenance": [],
      "authorship_tag": "ABX9TyOKfSNkqZbTr4btvNoWY0t3",
      "include_colab_link": true
    },
    "kernelspec": {
      "name": "python3",
      "display_name": "Python 3"
    },
    "language_info": {
      "name": "python"
    }
  },
  "cells": [
    {
      "cell_type": "markdown",
      "metadata": {
        "id": "view-in-github",
        "colab_type": "text"
      },
      "source": [
        "<a href=\"https://colab.research.google.com/github/alanmanoel22/pythoncurso/blob/Curso_Python/3_atividade_formatacao.ipynb\" target=\"_parent\"><img src=\"https://colab.research.google.com/assets/colab-badge.svg\" alt=\"Open In Colab\"/></a>"
      ]
    },
    {
      "cell_type": "code",
      "execution_count": null,
      "metadata": {
        "colab": {
          "base_uri": "https://localhost:8080/"
        },
        "id": "xxF4jynkS0Ru",
        "outputId": "50be8bd1-8039-4ac9-e239-8a7619e2ac69"
      },
      "outputs": [
        {
          "output_type": "stream",
          "name": "stdout",
          "text": [
            "Eu nasci em 30/12/1988\n"
          ]
        }
      ],
      "source": [
        "dia = 30\n",
        "mes = 12\n",
        "ano = 1988\n",
        "data = 'Eu nasci em %d/%d/%d' %(dia,mes,ano)\n",
        "print(data)"
      ]
    },
    {
      "cell_type": "code",
      "source": [
        "horas = 20\n",
        "minutos = 2\n",
        "print (\"agora são %d horas e %.d minutos\" %(horas, minutos))"
      ],
      "metadata": {
        "colab": {
          "base_uri": "https://localhost:8080/"
        },
        "id": "CeqFdBuDT9dH",
        "outputId": "e0c59095-5126-48b0-a98e-8ae7a48cdf09"
      },
      "execution_count": null,
      "outputs": [
        {
          "output_type": "stream",
          "name": "stdout",
          "text": [
            "agora são 20 horas e 2 minutos\n"
          ]
        }
      ]
    },
    {
      "cell_type": "markdown",
      "source": [
        "Operadores Aritimeticos"
      ],
      "metadata": {
        "id": "jGXnHk9TWAxb"
      }
    },
    {
      "cell_type": "code",
      "source": [
        "print (10 + 20)"
      ],
      "metadata": {
        "colab": {
          "base_uri": "https://localhost:8080/"
        },
        "id": "gb14yeWHWD5E",
        "outputId": "2dfd4fca-12ab-4625-e0f5-53afe76d9ef9"
      },
      "execution_count": 9,
      "outputs": [
        {
          "output_type": "stream",
          "name": "stdout",
          "text": [
            "30\n"
          ]
        }
      ]
    },
    {
      "cell_type": "markdown",
      "source": [
        "Operadores Logicos\n"
      ],
      "metadata": {
        "id": "iS-LRlW6XPjj"
      }
    },
    {
      "cell_type": "code",
      "source": [
        "resultado1 = True and False\n",
        "print(resultado1)"
      ],
      "metadata": {
        "colab": {
          "base_uri": "https://localhost:8080/"
        },
        "id": "-zTPkKQ4XRiU",
        "outputId": "30240f4c-7cb5-43bd-9d37-c4bee73fbf3e"
      },
      "execution_count": 10,
      "outputs": [
        {
          "output_type": "stream",
          "name": "stdout",
          "text": [
            "False\n"
          ]
        }
      ]
    },
    {
      "cell_type": "code",
      "source": [
        "var1 = True\n",
        "var2 = True\n",
        "var3 = False\n",
        "print (var1 and var2 and var3)"
      ],
      "metadata": {
        "colab": {
          "base_uri": "https://localhost:8080/"
        },
        "id": "2ll7YfayXiaz",
        "outputId": "f3744759-120f-4e8f-d159-5ea50a13e36b"
      },
      "execution_count": 12,
      "outputs": [
        {
          "output_type": "stream",
          "name": "stdout",
          "text": [
            "False\n"
          ]
        }
      ]
    },
    {
      "cell_type": "code",
      "source": [
        "clima_bom = True\n",
        "estou_disposto = False\n",
        "vou_ao_mercado = clima_bom or estou_disposto\n",
        "print ('Vou ao mercado?',vou_ao_mercado)"
      ],
      "metadata": {
        "colab": {
          "base_uri": "https://localhost:8080/"
        },
        "id": "eHGHaV3AXzh_",
        "outputId": "16c8ad55-a4d3-4a1f-9ddc-f598ed543f1c"
      },
      "execution_count": 14,
      "outputs": [
        {
          "output_type": "stream",
          "name": "stdout",
          "text": [
            "Vou ao mercado? True\n"
          ]
        }
      ]
    },
    {
      "cell_type": "markdown",
      "source": [
        "# Casting"
      ],
      "metadata": {
        "id": "Q4ZvbHaedOVZ"
      }
    },
    {
      "cell_type": "code",
      "source": [
        "texto = 'olá'\n",
        "numero = 2\n",
        "decimal = 1.5\n",
        "boolean = True\n",
        "print(type(texto))\n",
        "print(type(numero))\n",
        "print(type(decimal))\n",
        "print(type(boolean))\n"
      ],
      "metadata": {
        "colab": {
          "base_uri": "https://localhost:8080/"
        },
        "id": "iuo-3ADNdP7B",
        "outputId": "f04a7e3d-12c7-405a-ad39-23e801955e5a"
      },
      "execution_count": 15,
      "outputs": [
        {
          "output_type": "stream",
          "name": "stdout",
          "text": [
            "<class 'str'>\n",
            "<class 'int'>\n",
            "<class 'float'>\n",
            "<class 'bool'>\n"
          ]
        }
      ]
    },
    {
      "cell_type": "code",
      "source": [
        "texto1 ='2'\n",
        "texto2 = '1.5'\n",
        "numero1 = int(texto1)\n",
        "numero2 = float(texto2)\n",
        "print (numero1 + numero2)"
      ],
      "metadata": {
        "colab": {
          "base_uri": "https://localhost:8080/"
        },
        "id": "HPiogASIdxLA",
        "outputId": "2a4efa61-34f6-4f44-ee65-130b2ef0f702"
      },
      "execution_count": 18,
      "outputs": [
        {
          "output_type": "stream",
          "name": "stdout",
          "text": [
            "3.5\n"
          ]
        }
      ]
    },
    {
      "cell_type": "code",
      "source": [
        "num = 21.23121\n",
        "inteira = int(num)\n",
        "print (inteira)"
      ],
      "metadata": {
        "colab": {
          "base_uri": "https://localhost:8080/"
        },
        "id": "I-7sg9xpedU5",
        "outputId": "4b3cd602-4a20-419a-ddba-8dbaad7ab074"
      },
      "execution_count": 20,
      "outputs": [
        {
          "output_type": "stream",
          "name": "stdout",
          "text": [
            "21\n"
          ]
        }
      ]
    }
  ]
}