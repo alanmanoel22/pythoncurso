{
  "nbformat": 4,
  "nbformat_minor": 0,
  "metadata": {
    "colab": {
      "provenance": [],
      "authorship_tag": "ABX9TyMM6w5rz0cqilm+eDgEUn4p",
      "include_colab_link": true
    },
    "kernelspec": {
      "name": "python3",
      "display_name": "Python 3"
    },
    "language_info": {
      "name": "python"
    }
  },
  "cells": [
    {
      "cell_type": "markdown",
      "metadata": {
        "id": "view-in-github",
        "colab_type": "text"
      },
      "source": [
        "<a href=\"https://colab.research.google.com/github/alanmanoel22/pythoncurso/blob/Curso_Python/3_atividade_formatacao.ipynb\" target=\"_parent\"><img src=\"https://colab.research.google.com/assets/colab-badge.svg\" alt=\"Open In Colab\"/></a>"
      ]
    },
    {
      "cell_type": "code",
      "execution_count": 1,
      "metadata": {
        "colab": {
          "base_uri": "https://localhost:8080/"
        },
        "id": "xxF4jynkS0Ru",
        "outputId": "50be8bd1-8039-4ac9-e239-8a7619e2ac69"
      },
      "outputs": [
        {
          "output_type": "stream",
          "name": "stdout",
          "text": [
            "Eu nasci em 30/12/1988\n"
          ]
        }
      ],
      "source": [
        "dia = 30\n",
        "mes = 12\n",
        "ano = 1988\n",
        "data = 'Eu nasci em %d/%d/%d' %(dia,mes,ano)\n",
        "print(data)"
      ]
    },
    {
      "cell_type": "code",
      "source": [
        "horas = 20\n",
        "minutos = 2\n",
        "print (\"agora são %d horas e %.d minutos\" %(horas, minutos))"
      ],
      "metadata": {
        "colab": {
          "base_uri": "https://localhost:8080/"
        },
        "id": "CeqFdBuDT9dH",
        "outputId": "e0c59095-5126-48b0-a98e-8ae7a48cdf09"
      },
      "execution_count": 8,
      "outputs": [
        {
          "output_type": "stream",
          "name": "stdout",
          "text": [
            "agora são 20 horas e 2 minutos\n"
          ]
        }
      ]
    }
  ]
}